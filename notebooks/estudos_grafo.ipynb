{
 "cells": [
  {
   "cell_type": "markdown",
   "id": "78fb192f",
   "metadata": {},
   "source": [
    "## Desenvolvendo um Fluxo no Notebook"
   ]
  },
  {
   "cell_type": "markdown",
   "id": "1c4b5744",
   "metadata": {},
   "source": [
    "### Carregar variáveis"
   ]
  },
  {
   "cell_type": "code",
   "execution_count": 1,
   "id": "d21b0caa",
   "metadata": {},
   "outputs": [
    {
     "data": {
      "text/plain": [
       "False"
      ]
     },
     "execution_count": 1,
     "metadata": {},
     "output_type": "execute_result"
    }
   ],
   "source": [
    "from dotenv import load_dotenv\n",
    "load_dotenv()"
   ]
  },
  {
   "cell_type": "markdown",
   "id": "f3c56eae",
   "metadata": {},
   "source": [
    "### Criando o chatbot"
   ]
  },
  {
   "cell_type": "code",
   "execution_count": null,
   "id": "dc366922",
   "metadata": {},
   "outputs": [],
   "source": [
    "from typing import Annotated\n",
    "\n",
    "from typing_extensions import TypedDict\n",
    "\n",
    "from langgraph.graph import StateGraph, START, END\n",
    "from langgraph.graph.message import add_messages\n",
    "\n",
    "\n",
    "class State(TypedDict):\n",
    "    messages: Annotated[list, add_messages]\n",
    "\n"
   ]
  },
  {
   "cell_type": "code",
   "execution_count": null,
   "id": "68e3bc04",
   "metadata": {},
   "outputs": [],
   "source": [
    "# modelo\n",
    "import os\n",
    "from langchain.chat_models import init_chat_model\n",
    "llm = init_chat_model(\"openai:gpt-4o-mini\")"
   ]
  },
  {
   "cell_type": "code",
   "execution_count": 13,
   "id": "3c49dfb7",
   "metadata": {},
   "outputs": [],
   "source": [
    "# chatbot\n",
    "def chatbot(state: State):\n",
    "    return {\"messages\": [llm.invoke(state[\"messages\"])]}\n",
    "\n",
    "graph_builder = StateGraph(State)\n",
    "\n",
    "# adiciona nós\n",
    "graph_builder.add_node(\"chatbot\", chatbot)\n",
    "graph_builder.add_edge(START, \"chatbot\")\n",
    "graph_builder.add_edge(\"chatbot\", END)\n",
    "\n",
    "# compilando\n",
    "graph = graph_builder.compile()"
   ]
  },
  {
   "cell_type": "code",
   "execution_count": 14,
   "id": "fcb4b521",
   "metadata": {},
   "outputs": [
    {
     "data": {
      "image/png": "[encoded data removed]",
      "text/plain": [
       "<langgraph.graph.state.CompiledStateGraph object at 0x77c682ccf740>"
      ]
     },
     "execution_count": 14,
     "metadata": {},
     "output_type": "execute_result"
    }
   ],
   "source": [
    "graph"
   ]
  },
  {
   "cell_type": "markdown",
   "id": "eecf852c",
   "metadata": {},
   "source": [
    "### Executando"
   ]
  },
  {
   "cell_type": "code",
   "execution_count": 15,
   "id": "6fa8eee6",
   "metadata": {},
   "outputs": [
    {
     "name": "stdout",
     "output_type": "stream",
     "text": [
      "Assistant: Olá! Tudo bem, e você? Como posso ajudá-lo hoje?\n",
      "Goodbye!\n"
     ]
    }
   ],
   "source": [
    "def stream_graph_updates(user_input: str):\n",
    "    for event in graph.stream({\"messages\": [{\"role\": \"user\", \"content\": user_input}]}):\n",
    "        for value in event.values():\n",
    "            print(\"Assistant:\", value[\"messages\"][-1].content)\n",
    "\n",
    "\n",
    "while True:\n",
    "    try:\n",
    "        user_input = input(\"User: \")\n",
    "        if user_input.lower() in [\"quit\", \"exit\", \"q\"]:\n",
    "            print(\"Goodbye!\")\n",
    "            break\n",
    "        stream_graph_updates(user_input)\n",
    "    except:\n",
    "        # fallback if input() is not available\n",
    "        user_input = \"What do you know about LangGraph?\"\n",
    "        print(\"User: \" + user_input)\n",
    "        stream_graph_updates(user_input)\n",
    "        break"
   ]
  },
  {
   "cell_type": "markdown",
   "id": "f8848d40",
   "metadata": {},
   "source": [
    "### V2 - customizado"
   ]
  },
  {
   "cell_type": "code",
   "execution_count": null,
   "id": "93a7405a",
   "metadata": {},
   "outputs": [],
   "source": []
  },
  {
   "cell_type": "code",
   "execution_count": null,
   "id": "7e821325",
   "metadata": {},
   "outputs": [
    {
     "name": "stdout",
     "output_type": "stream",
     "text": [
      "Graph with custom agent node compiled successfully.\n"
     ]
    }
   ],
   "source": [
    "from utils import *\n",
    "from variables import *\n",
    "\n",
    "from typing import Annotated\n",
    "from typing_extensions import TypedDict\n",
    "from langgraph.graph import StateGraph, START, END\n",
    "from langgraph.graph.message import add_messages\n",
    "from langchain.chat_models import init_chat_model\n",
    "from langgraph.checkpoint.memory import InMemorySaver\n",
    "from langchain_core.prompts import ChatPromptTemplate\n",
    "from langchain_core.runnables import Runnable\n",
    "from variables import *\n",
    "import os\n",
    "\n",
    "class State(TypedDict):\n",
    "    messages: Annotated[list, add_messages]\n",
    "\n",
    "# --- 1. Define the Prompt Template ---\n",
    "# This gives our agent its personality and instructions.\n",
    "prompt = ChatPromptTemplate.from_messages(\n",
    "    [\n",
    "        (\n",
    "            \"system\",\n",
    "            \"You are a helpful AI assistant. Your name is Codium. Respond in a friendly and clear manner.\",\n",
    "        ),\n",
    "        (\"placeholder\", \"{messages}\"),\n",
    "    ]\n",
    ")\n",
    "\n",
    "# --- Language Model ---\n",
    "llm = init_chat_model(\"openai:gpt-4o-mini\")\n",
    "\n",
    "# --- 2. Create the Agent Node ---\n",
    "# This node will format the prompt and call the model.\n",
    "def agent_node(state: State):\n",
    "    \"\"\"\n",
    "    Invokes the agent with the current state to generate a response.\n",
    "    \"\"\"\n",
    "    # The chain combines the prompt and the model\n",
    "    chain: Runnable = prompt | llm\n",
    "    \n",
    "    # We pass the entire message history to the chain\n",
    "    response = chain.invoke({\"messages\": state[\"messages\"]})\n",
    "    \n",
    "    # The result is a new message that we add to the state\n",
    "    return {\"messages\": [response]}\n",
    "\n",
    "# --- 3. Build the Graph ---\n",
    "graph_builder = StateGraph(State)\n",
    "\n",
    "# Add our new agent node\n",
    "graph_builder.add_node(\"agent\", agent_node)\n",
    "graph_builder.add_edge(START, \"agent\")\n",
    "graph_builder.add_edge(\"agent\", END)\n",
    "\n",
    "# Compile the graph\n",
    "memory = InMemorySaver()\n",
    "graph = graph_builder.compile(checkpointer=memory)\n",
    "\n",
    "print('Graph with custom agent node compiled successfully.')\n"
   ]
  },
  {
   "cell_type": "code",
   "execution_count": 2,
   "id": "f1107196",
   "metadata": {},
   "outputs": [
    {
     "data": {
      "image/png": "[encoded data removed]",
      "text/plain": [
       "<langgraph.graph.state.CompiledStateGraph object at 0x6ffebfb61220>"
      ]
     },
     "execution_count": 2,
     "metadata": {},
     "output_type": "execute_result"
    }
   ],
   "source": [
    "graph"
   ]
  }
 ],
 "metadata": {
  "kernelspec": {
   "display_name": "genai",
   "language": "python",
   "name": "python3"
  },
  "language_info": {
   "codemirror_mode": {
    "name": "ipython",
    "version": 3
   },
   "file_extension": ".py",
   "mimetype": "text/x-python",
   "name": "python",
   "nbconvert_exporter": "python",
   "pygments_lexer": "ipython3",
   "version": "3.12.3"
  }
 },
 "nbformat": 4,
 "nbformat_minor": 5
}
